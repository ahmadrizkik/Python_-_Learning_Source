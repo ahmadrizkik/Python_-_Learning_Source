{
 "cells": [
  {
   "cell_type": "markdown",
   "metadata": {},
   "source": [
    "# Note 1: Introduction"
   ]
  },
  {
   "cell_type": "code",
   "execution_count": null,
   "metadata": {},
   "outputs": [],
   "source": [
    "print (\"Hello World!\")"
   ]
  },
  {
   "cell_type": "markdown",
   "metadata": {},
   "source": [
    "# Note 2: Format Print"
   ]
  },
  {
   "cell_type": "code",
   "execution_count": null,
   "metadata": {},
   "outputs": [],
   "source": [
    "# string\n",
    "nama = 'Malika'\n",
    "# integer\n",
    "umur = 17\n",
    "\n",
    "# casting ke str\n",
    "print (nama + \"\\n\" + str(umur))"
   ]
  },
  {
   "cell_type": "code",
   "execution_count": null,
   "metadata": {},
   "outputs": [],
   "source": [
    "# slicing variable\n",
    "data = \"Hello world!\"\n",
    "print(data[2])      # l\n",
    "print(data[-2])     # d\n",
    "print(data[2:8])    # llo wo\n",
    "print(data[:8])     # Hello wo\n",
    "print(data[:-2])    # Hello worl\n",
    "print(data[-2:])    # d!\n",
    "print(data[1:10:3]) # eoo \n",
    "print(data[0:12:4]) # [0:12:4] same as [::4])\n",
    "print(data[::-1])   # !dlrow olleH"
   ]
  },
  {
   "cell_type": "markdown",
   "metadata": {},
   "source": [
    "\n",
    "Metode %\n",
    "```\n",
    "%s - String (or any object with a string representation, like numbers)\n",
    "%d - Integers\n",
    "%f - Floating point numbers\n",
    "%.<number of digits>f - Floating point numbers with a fixed amount of digits to the right of the dot\n",
    "%x/%X - Integers in hex representation (lowercase/uppercase)\n",
    "\n",
    "Any object which is not a string can be formatted using the %s operator as well. The string which returns is formatted as the string\n",
    "```"
   ]
  },
  {
   "cell_type": "code",
   "execution_count": null,
   "metadata": {},
   "outputs": [],
   "source": [
    "# contoh 1\n",
    "print ('%s umurnya %s' %(nama, umur))\n",
    "\n",
    "# contoh 2\n",
    "data = 1\n",
    "print ('%s' % data)\n",
    "\n",
    "# contoh 3\n",
    "data = (\"John\", \"Doe\", 53.44)\n",
    "format_string = \"Hello %s %s. Your current balance is $%s.\"\n",
    "print(format_string % data)"
   ]
  },
  {
   "cell_type": "markdown",
   "metadata": {},
   "source": [
    "Metode {}.format()"
   ]
  },
  {
   "cell_type": "code",
   "execution_count": null,
   "metadata": {},
   "outputs": [],
   "source": [
    "# contoh 1\n",
    "print ('{1} umurnya {0}'.format(nama, umur))"
   ]
  },
  {
   "cell_type": "code",
   "execution_count": null,
   "metadata": {},
   "outputs": [],
   "source": [
    "# contoh 2\n",
    "planet = \"Pluto\"\n",
    "pluto_mass = 1.303 * 10**22\n",
    "earth_mass = 5.9722 * 10**24\n",
    "population = 52910390.9\n",
    "# print 'Pluto weighs about 1.3e+22 kilograms (0.22% of Earth's mass).\n",
    "#        It is home to 52,910,390.9 Plutonians.'\n",
    "print (\"\"\"{} weighs about {:.2} kilograms ({:.2%} of Earth's mass).\n",
    "      It is home to {:,} Plutonians.\"\"\".\n",
    "      format(planet, pluto_mass, pluto_mass/earth_mass, population))"
   ]
  },
  {
   "cell_type": "markdown",
   "metadata": {},
   "source": [
    "String Method\n",
    "```\n",
    ".abs()\n",
    ".endswith()\n",
    ".index()\n",
    ".isdigit()\n",
    ".join()\n",
    ".lower()\n",
    ".replace\n",
    ".split()\n",
    ".startswith()\n",
    ".upper()\n",
    ".count()\n",
    "```"
   ]
  },
  {
   "cell_type": "code",
   "execution_count": null,
   "metadata": {},
   "outputs": [],
   "source": [
    "# split method 1\n",
    "claim1 = 'Pluto is a planet!'\n",
    "x = claim1.split()\n",
    "print (x) # print ['Pluto', 'is', 'a', 'planet!']"
   ]
  },
  {
   "cell_type": "code",
   "execution_count": null,
   "metadata": {},
   "outputs": [],
   "source": [
    "# split method 2\n",
    "claim1 = 'Pluto-is-a-planet!'\n",
    "a,b,c,d = claim1.split('-')\n",
    "print (a) # print 'Pluto'"
   ]
  },
  {
   "cell_type": "code",
   "execution_count": null,
   "metadata": {},
   "outputs": [],
   "source": [
    "# join method\n",
    "claim2 = ['Pluto', 'is', 'a', 'planet!']\n",
    "y = ' 👏 '.join([word for word in claim2])\n",
    "print (y) # print 'Pluto 👏 is 👏 a 👏 planet!'"
   ]
  },
  {
   "cell_type": "code",
   "execution_count": null,
   "metadata": {},
   "outputs": [],
   "source": [
    "# replace method\n",
    "claim3 = 'Pluto is a planet!'\n",
    "claim3Underscore = claim3.replace(' ', '_')\n",
    "print (claim3Underscore) # print 'Pluto_is_a_planet!'"
   ]
  },
  {
   "cell_type": "code",
   "execution_count": null,
   "metadata": {},
   "outputs": [],
   "source": [
    "# isdigit method\n",
    "x = '12345678x'\n",
    "print (str.isdigit(x)) # print False"
   ]
  },
  {
   "cell_type": "code",
   "execution_count": null,
   "metadata": {},
   "outputs": [],
   "source": [
    "# quote type\n",
    "print(\"Pluto's a planet!\")       # print with one quote\n",
    "print('My dog is named \"Pluto\"') # print with two quote"
   ]
  },
  {
   "cell_type": "markdown",
   "metadata": {},
   "source": [
    "# Note 3: Input"
   ]
  },
  {
   "cell_type": "code",
   "execution_count": null,
   "metadata": {},
   "outputs": [],
   "source": [
    "# input 1\n",
    "nama = input(\"Siapa nama kamu? \")\n",
    "umur = input(\"Berapa umur kamu? \")\n",
    "print (\"Salam kenal ya \" + nama + \" diumur kamu yang ke \" + umur)"
   ]
  },
  {
   "cell_type": "code",
   "execution_count": null,
   "metadata": {},
   "outputs": [],
   "source": [
    "# input 2\n",
    "baik = True\n",
    "imut = True\n",
    "tipe = 'wanita'\n",
    "# if can make into branch\n",
    "if baik and imut:\n",
    "  if tipe == input(''):\n",
    "    print (\"Gas\")\n",
    "  else:\n",
    "    print ('engga dlu')"
   ]
  },
  {
   "cell_type": "markdown",
   "metadata": {},
   "source": [
    "# Note 4: Type of Variable and If Function"
   ]
  },
  {
   "cell_type": "markdown",
   "metadata": {},
   "source": [
    "\n",
    "```python\n",
    "Variable Type\n",
    "int     #integer\n",
    "float   #float\n",
    "str     #string\n",
    "bool    #boolean\n",
    "complex #complex\n",
    "```"
   ]
  },
  {
   "cell_type": "code",
   "execution_count": null,
   "metadata": {},
   "outputs": [],
   "source": [
    "print (\"a: eh bayar utanglu sini.\")\n",
    "print (\"b: ywdh nih gw bayar.\")\n",
    "print (\"a: lu punya uang berapa?\")\n",
    "\n",
    "uang = input(\"b: \")\n",
    "utang = 10000\n",
    "\n",
    "# elif bisa ditulis lebih dari sekali\n",
    "if int(uang) == utang:\n",
    "  print (\"a: oke lunas ya\")\n",
    "elif int(uang) < 5000:\n",
    "  print (\"a: yaampun miskin banget\")\n",
    "elif int(uang) < utang:\n",
    "  print (\"a: duitnya kurang bang\")\n",
    "else:\n",
    "  print (\"a: anjay tumben lu lebihin bayar utang\")"
   ]
  },
  {
   "cell_type": "markdown",
   "metadata": {},
   "source": [
    "# Note 5: Boolean"
   ]
  },
  {
   "cell_type": "markdown",
   "metadata": {},
   "source": [
    "boolean operator\n",
    "```Python\n",
    "==, !=, >, <, >=, <=\n",
    "and = &  (kalau keduanya true)\n",
    "or  = |  (kalau salah satunya true)\n",
    "not = != (buat bikin pernyataan jadi sebaliknya)\n",
    "```"
   ]
  },
  {
   "cell_type": "code",
   "execution_count": null,
   "metadata": {},
   "outputs": [],
   "source": [
    "x = 10\n",
    "y = 5\n",
    "z = -3\n",
    "if x > y and y < x:\n",
    "  print ('keduanya benar')\n",
    "\n",
    "if x > y or x < y:\n",
    "  print ('salah satunya salah')\n",
    "\n",
    "if not x < y:\n",
    "  print ('iya itu tidak benar')"
   ]
  },
  {
   "cell_type": "markdown",
   "metadata": {},
   "source": [
    "# Note 6: While"
   ]
  },
  {
   "cell_type": "code",
   "execution_count": null,
   "metadata": {},
   "outputs": [],
   "source": [
    "# while gunanya untuk bikin pengulangan\n",
    "x = 1\n",
    "while x < 5:\n",
    "  print (\"lanjut.\")\n",
    "  x = x + 1\n",
    "else:\n",
    "  print ('berhenti di' , x)"
   ]
  },
  {
   "cell_type": "code",
   "execution_count": null,
   "metadata": {},
   "outputs": [],
   "source": [
    "# fungsi break untuk berhenti saat mencapai nilai tertentu\n",
    "x = 0\n",
    "while True:\n",
    "    print(x)\n",
    "    x = x + 1\n",
    "    if x >= 5:\n",
    "        break"
   ]
  },
  {
   "cell_type": "code",
   "execution_count": null,
   "metadata": {},
   "outputs": [],
   "source": [
    "# make a Pyramid 1\n",
    "a = 1\n",
    "while a <= 5:\n",
    "  b = 0\n",
    "  while b < a:\n",
    "    print ('*', end=\"\") # end biar next print nyatu\n",
    "    b = b + 1\n",
    "    # diperlukan var baru karena jika memakai var sebelumnya\n",
    "    # akan mengubah nilainya ketika diloop pertama\n",
    "    # dari seharusnya 1=2=3=4 jika menggunakan 1 var akan\n",
    "    # menjadi 1=2=1=2=1\n",
    "  print ()\n",
    "  a = a + 1"
   ]
  },
  {
   "cell_type": "code",
   "execution_count": null,
   "metadata": {},
   "outputs": [],
   "source": [
    "# make a pyramid 2\n",
    "x = 1\n",
    "bintang = \"\"\n",
    "while x <= 5: \n",
    "  y = x\n",
    "  while y > 0:\n",
    "    bintang = bintang + \"*\" # dapat ditulis bintang += \"*\"\n",
    "    y = y - 1\n",
    "  bintang = bintang + \"\\n\"\n",
    "  x = x + 1 \n",
    "print (bintang)"
   ]
  },
  {
   "cell_type": "markdown",
   "metadata": {},
   "source": [
    "# Note 7: For and Tuple"
   ]
  },
  {
   "cell_type": "markdown",
   "metadata": {},
   "source": [
    "For"
   ]
  },
  {
   "cell_type": "code",
   "execution_count": null,
   "metadata": {},
   "outputs": [],
   "source": [
    "# fungsi for\n",
    "for a in range(1,5):\n",
    "  for b in range (1,5):\n",
    "    c = a*b\n",
    "    print (c, end=\" \")\n",
    "  print ()"
   ]
  },
  {
   "cell_type": "code",
   "execution_count": null,
   "metadata": {},
   "outputs": [],
   "source": [
    "# for x in var gunanya buat loop isi dari variabel atau list\n",
    "nama = ['Ani', 'Budi', 'Cika']\n",
    "nama1 = 'Budi'\n",
    "for x in nama:\n",
    "  print ('ini namaya ', x)\n",
    "for x in nama1:\n",
    "  print (x)"
   ]
  },
  {
   "cell_type": "code",
   "execution_count": null,
   "metadata": {},
   "outputs": [],
   "source": [
    "# fungsi continue to skip command\n",
    "for x in range(10):\n",
    "    if x % 2 == 0:\n",
    "        continue\n",
    "    print(x) # 1,3,5,7,9"
   ]
  },
  {
   "cell_type": "code",
   "execution_count": null,
   "metadata": {},
   "outputs": [],
   "source": [
    "# for loop dari modul built in\n",
    "import re\n",
    "for x in dir(re):\n",
    "    if 'find' in x:\n",
    "        print (x)"
   ]
  },
  {
   "cell_type": "markdown",
   "metadata": {},
   "source": [
    "Example"
   ]
  },
  {
   "cell_type": "code",
   "execution_count": null,
   "metadata": {},
   "outputs": [],
   "source": [
    "# exaFor 1 (print only uppercase letter in string)\n",
    "s = 'steganograpHy is the practicE of conceaLing a fiLe Or video.'\n",
    "for char in s:\n",
    "    if char.isupper():      # use isupper\n",
    "        print(char, end='') # HELLO"
   ]
  },
  {
   "cell_type": "markdown",
   "metadata": {},
   "source": [
    "Tuple"
   ]
  },
  {
   "cell_type": "code",
   "execution_count": null,
   "metadata": {},
   "outputs": [],
   "source": [
    "# tuple () mirip list bedanya dia immutable (gabisa pake method)\n",
    "nama1 = ('Ale', 'Bidi', 'Coki')\n",
    "nama2 = ['Ale', 'Bidi', 'Coki']\n",
    "\n",
    "print (nama1[0])\n",
    "print (len(nama1))  # jumlah data\n",
    "print (max(nama1))  # tertinggi\n",
    "print (list(nama1)) # ganti ke list\n",
    "print (tuple(nama2))"
   ]
  },
  {
   "cell_type": "markdown",
   "metadata": {},
   "source": [
    "# Note 8: List"
   ]
  },
  {
   "cell_type": "code",
   "execution_count": null,
   "metadata": {},
   "outputs": [],
   "source": [
    "# list tandanya pake []\n",
    "nama = ['Ani', 'Budi', 'Cika']\n",
    "nama1 = 'Budi'\n",
    "angka = [1,2,3]"
   ]
  },
  {
   "cell_type": "code",
   "execution_count": null,
   "metadata": {},
   "outputs": [],
   "source": [
    "# cara akses list\n",
    "x, y, z = nama\n",
    "print (x, y, z, sep='_') # sep to change space between values\n",
    "print (nama[0])"
   ]
  },
  {
   "cell_type": "code",
   "execution_count": null,
   "metadata": {},
   "outputs": [],
   "source": [
    "# method in list\n",
    "nama.append ('Diki')  # nambahin\n",
    "nama[0] = 'Akel'      # ganti\n",
    "del nama[1]           # hapus metode 1\n",
    "nama.pop(1)           # hapus metode 2\n",
    "nama.index('Budi')    # akses index\n",
    "nama.count('Budi')    # how much budi data\n",
    "len(nama)             # jumlah data di  list\n",
    "sorted(nama)          # urutin list\n",
    "sum(angka)            # total list\n",
    "print (nama)\n",
    "print (nama[0])"
   ]
  },
  {
   "cell_type": "code",
   "execution_count": null,
   "metadata": {},
   "outputs": [],
   "source": [
    "# list in list\n",
    "nama = [['Ani', 'Budi', 'Cika'],\n",
    "        ['Andi', 'Bina', 'Cita']]\n",
    "x = nama[1][0]  # acces method\n",
    "print (x)       # andi"
   ]
  },
  {
   "cell_type": "markdown",
   "metadata": {},
   "source": [
    "Comprehension List"
   ]
  },
  {
   "cell_type": "code",
   "execution_count": null,
   "metadata": {},
   "outputs": [],
   "source": [
    "# exaCompreList 1 (print length word except 'the')\n",
    "sentence = \"the quick brown fox jumps over the lazy dog\"\n",
    "words = sentence.split()\n",
    "# basic code\n",
    "word_lengths = []\n",
    "for word in words:\n",
    "  if word != \"the\":\n",
    "    word_lengths.append (len(word))\n",
    "# comprehen with just one code\n",
    "word_lengths = [len(word) for word in words if word != \"the\"]\n",
    "print(word_lengths)"
   ]
  },
  {
   "cell_type": "code",
   "execution_count": null,
   "metadata": {},
   "outputs": [],
   "source": [
    "# exaCompreList 2\n",
    "data1 = [34.6, -203.4, 44.9, 68.3, -12.2, 44.6, 12.7]\n",
    "integer = [int(x) for x in data1 if x > 0]\n",
    "print(integer)"
   ]
  },
  {
   "cell_type": "code",
   "execution_count": null,
   "metadata": {},
   "outputs": [],
   "source": [
    "# exaCompreList 3\n",
    "squares = [n**2 for n in range(10)]\n",
    "print (squares)"
   ]
  },
  {
   "cell_type": "code",
   "execution_count": null,
   "metadata": {},
   "outputs": [],
   "source": [
    "# exaCompreList 4\n",
    "planets = ['Mercurius', 'Venus', 'Earth', 'Mars', 'Jupiter',\n",
    "           'Saturnus', 'Uranus', 'Neptunus']\n",
    "short_planets = [planet for planet in planets if len(planet) < 6]\n",
    "print (short_planets)"
   ]
  },
  {
   "cell_type": "code",
   "execution_count": null,
   "metadata": {},
   "outputs": [],
   "source": [
    "# exaCompreList 5(count negative number in list)\n",
    "nums = [5, -1, -2, 0, 3]\n",
    "n_negative = 0\n",
    "for num in nums:\n",
    "    if num < 0:\n",
    "        n_negative = n_negative + 1\n",
    "print (n_negative)\n",
    "  # can be comprehen into this\n",
    "print (len([num for num in nums if num < 0]))\n",
    "  # or into this\n",
    "print (sum([num < 0 for num in nums]))"
   ]
  },
  {
   "cell_type": "code",
   "execution_count": null,
   "metadata": {},
   "outputs": [],
   "source": [
    "# exaCompreList 6 (check lucky number in list (luckNumb = 7))\n",
    "nums = [1,2,3,4,5,6,7]\n",
    "for num in nums:\n",
    "    if num % 7 == 0:\n",
    "        print (True)\n",
    "    else:\n",
    "        continue\n",
    "  # comprehen into this\n",
    "print (any([num % 7 == 0 for num in nums]))"
   ]
  },
  {
   "cell_type": "markdown",
   "metadata": {},
   "source": [
    "# Note 9: Dictionary"
   ]
  },
  {
   "cell_type": "code",
   "execution_count": null,
   "metadata": {},
   "outputs": [],
   "source": [
    "# dictionary pake {}, punya key dan value\n",
    "data = {'nama'  : 'Aben',\n",
    "        'umur'  : '17',\n",
    "        'hobi'  : 'Masak',\n",
    "        'gender': 'Wanita'}\n",
    "print (data)"
   ]
  },
  {
   "cell_type": "code",
   "execution_count": null,
   "metadata": {},
   "outputs": [],
   "source": [
    "# method di dict\n",
    "data['kelamin'] = 'Laki-laki' # nambahin\n",
    "data['nama'] = 'Budi'         # ganti\n",
    "del data['umur']              # cara delete 1\n",
    "data.pop('gender')            # cara delete 2\n",
    "print (data)"
   ]
  },
  {
   "cell_type": "code",
   "execution_count": null,
   "metadata": {},
   "outputs": [],
   "source": [
    "# loop dict\n",
    "# 'for' buat dic bisa pake items() atau pake \n",
    "# satu data tpi data selanjutnya dikasih []\n",
    "for x, y in data.items():\n",
    "  print (x, \":\", y)\n",
    "  # atau ini\n",
    "for x in data:\n",
    "  print (x, \":\", data[x])"
   ]
  },
  {
   "cell_type": "code",
   "execution_count": null,
   "metadata": {},
   "outputs": [],
   "source": [
    "# loop dua dict\n",
    "data = {\n",
    "  'data1' : {\n",
    "    'nama' : 'Kai',\n",
    "    'umur' : '19',\n",
    "    'hobi' : 'Mancing'},\n",
    "  'data2' : {\n",
    "    'nama' : 'Lex',\n",
    "    'umur' : '20',\n",
    "    'hobi' : 'Nganggur'}}\n",
    "\n",
    "for x, y in data.items():\n",
    "  print ('\\n' + 'ini ' + x)\n",
    "  for x1 in y:\n",
    "    print (x1 + ' : ' + y[x1])\n",
    "# bisa juga pake code ini\n",
    "for x, y in data.items():\n",
    "  print ('\\n', 'ini ', x)\n",
    "  for x1, y1 in y.items():\n",
    "    print (x1, ' : ', y1)"
   ]
  },
  {
   "cell_type": "markdown",
   "metadata": {},
   "source": [
    "Comprehension Dict"
   ]
  },
  {
   "cell_type": "code",
   "execution_count": null,
   "metadata": {},
   "outputs": [],
   "source": [
    "# contoh 1\n",
    "planets = ['Mercury', 'Venus', 'Earth', 'Mars', 'Jupiter', 'Saturn', 'Uranus', 'Neptune']\n",
    "x = {}\n",
    "for planet1 in planets:\n",
    "    x[planet1] = planet1[0]\n",
    "print (x)\n",
    "  # can comprehen into this\n",
    "y = {planet: planet[0] for planet in planets}\n",
    "print (y)\n",
    "print (' '.join(sorted(x.values()))) # print values"
   ]
  },
  {
   "cell_type": "markdown",
   "metadata": {},
   "source": [
    "# Note 10: Sets"
   ]
  },
  {
   "cell_type": "code",
   "execution_count": null,
   "metadata": {},
   "outputs": [],
   "source": [
    "# set mirip dict pake {} tpi gada keysnya\n",
    "# set gabisa diakses pake key, atau index (misal nama[0])\n",
    "# set sifatnya acak, nonduplikat\n",
    "nama = {'Andi', 'Bagus', 'Cinta', 'Andi'}\n",
    "print (nama) # hasil print acak dan nama andi cuma 1 kali"
   ]
  },
  {
   "cell_type": "code",
   "execution_count": null,
   "metadata": {},
   "outputs": [],
   "source": [
    "# method in sets\n",
    "nama.add ('Dara')     # nambahin\n",
    "nama.remove ('Bagus') # hapus\n",
    "print (nama)"
   ]
  },
  {
   "cell_type": "code",
   "execution_count": null,
   "metadata": {},
   "outputs": [],
   "source": [
    "# sets bisa dipakai buat perhitungan \n",
    "# pakai tanda (|) (&) (-) (^)\n",
    "angka1 = {1,2,3,4,5}\n",
    "angka2 = {4,5,6,7,8}\n",
    "\n",
    "print (angka1 ^ angka2)"
   ]
  },
  {
   "cell_type": "markdown",
   "metadata": {},
   "source": [
    "# Note 11: Function"
   ]
  },
  {
   "cell_type": "markdown",
   "metadata": {},
   "source": [
    "Function Without Argumen"
   ]
  },
  {
   "cell_type": "code",
   "execution_count": null,
   "metadata": {},
   "outputs": [],
   "source": [
    "# contoh 1\n",
    "def nilai():\n",
    "  print ()\n",
    "  print ('Benar')\n",
    "nilai()"
   ]
  },
  {
   "cell_type": "code",
   "execution_count": null,
   "metadata": {},
   "outputs": [],
   "source": [
    "# contoh 2\n",
    "def commaValue():\n",
    "    value = 123456.789\n",
    "    return '{:,}'.format(value) # to give comma in result\n",
    "print (commaValue())            # 123,456.789"
   ]
  },
  {
   "cell_type": "markdown",
   "metadata": {},
   "source": [
    "Function with Argumen"
   ]
  },
  {
   "cell_type": "code",
   "execution_count": null,
   "metadata": {},
   "outputs": [],
   "source": [
    "# contoh 1\n",
    "def nilai(text):\n",
    "  print (text)\n",
    "  print ('Iya benar')\n",
    "nilai(\"Apakah ini benar?\")"
   ]
  },
  {
   "cell_type": "code",
   "execution_count": null,
   "metadata": {},
   "outputs": [],
   "source": [
    "# contoh 2\n",
    "def nilai(text):\n",
    "    return text + 2 # return untuk mengambil nilai fungsi\n",
    "                    # akan none jika tidak ada return/print\n",
    "y = nilai(3)\n",
    "print (y)"
   ]
  },
  {
   "cell_type": "code",
   "execution_count": null,
   "metadata": {},
   "outputs": [],
   "source": [
    "# contoh 3\n",
    "def menu_is_boring(meals):\n",
    "    '''\n",
    "    this funct is to check if there's a same meal\n",
    "    in a row\n",
    "    '''\n",
    "    # range is to iterate list so it can be compare for below code\n",
    "    for i in range(len(meals)-1):\n",
    "        if meals[i] == meals[i+1]:\n",
    "            return True\n",
    "    return False\n",
    "x = menu_is_boring(['x','y','z','x','y','y','x'])\n",
    "print (x)"
   ]
  },
  {
   "cell_type": "code",
   "execution_count": null,
   "metadata": {},
   "outputs": [],
   "source": [
    "# contoh 4\n",
    "def is_valid_zip(zip_code):\n",
    "    \"\"\"\n",
    "    Returns whether the input string is a valid (5 digit) zip code\n",
    "    \"\"\"\n",
    "    if len(zip_code) == 5:\n",
    "        return str.isdigit(zip_code)\n",
    "    else:\n",
    "        return False\n",
    "  # can comprehen into\n",
    "def is_valid_zip2(zip_code):\n",
    "    return len(zip_code) == 5 and zip_code.isdigit()\n",
    "print (is_valid_zip('12345')) # must true\n",
    "print (is_valid_zip('1234x')) # must false\n",
    "print (is_valid_zip('1234')) # must false"
   ]
  },
  {
   "cell_type": "markdown",
   "metadata": {},
   "source": [
    "Default Function"
   ]
  },
  {
   "cell_type": "code",
   "execution_count": null,
   "metadata": {},
   "outputs": [],
   "source": [
    "def nilai (text = 0):\n",
    "  print (text)\n",
    "nilai() #keluar 0"
   ]
  },
  {
   "cell_type": "markdown",
   "metadata": {},
   "source": [
    "Function With Argumen more than 1"
   ]
  },
  {
   "cell_type": "code",
   "execution_count": null,
   "metadata": {},
   "outputs": [],
   "source": [
    "# contoh 1\n",
    "def nilai (a, b, c):\n",
    "  print ('Kalau', a, 'ditambah', b, 'jadinya', c)\n",
    "nilai (2, 3, 5)"
   ]
  },
  {
   "cell_type": "code",
   "execution_count": null,
   "metadata": {},
   "outputs": [],
   "source": [
    "# contoh 2\n",
    "def x(nama, umur, hobi):\n",
    "    print ('Nama: ' + nama + \n",
    "           'Umur: ' + umur +\n",
    "           \"Hobi: \" + hobi\n",
    "          )\n",
    "x('17\\n', 'isan\\n', 'masak')\n",
    "  # di print berurut dari nama\n",
    "x(umur = '17\\n', nama = 'isan\\n', hobi = 'masak')"
   ]
  },
  {
   "cell_type": "code",
   "execution_count": null,
   "metadata": {},
   "outputs": [],
   "source": [
    "# contoh 3\n",
    "def data(x, y):\n",
    "    '''\n",
    "    This func is to print a compare list into boolean list \n",
    "    '''\n",
    "    data = []\n",
    "    for z in x:\n",
    "        data.append(z > y)\n",
    "    return data\n",
    "x = data([1, 2, 3, 4], 2) # element compare\n",
    "print (x) # will print = [False, False, True, True]"
   ]
  },
  {
   "cell_type": "code",
   "execution_count": null,
   "metadata": {},
   "outputs": [],
   "source": [
    "# contoh 4\n",
    "list1 = ['Becak adalah kendaraan.', 'Sepeda adalah kendaraan.',\n",
    "        'Banyak jenis kendaraan di dunia.']\n",
    "key   = ['adalah', 'kendaraan']\n",
    "def wordSearch(doc, keyword):\n",
    "    '''\n",
    "    this funct is to search one keyword in list\n",
    "    '''\n",
    "    count = []\n",
    "    for i, j in enumerate(doc):\n",
    "        tokens = j.split()\n",
    "        normalized = [token.rstrip('.,').lower() for token in tokens]\n",
    "        if keyword.lower() in normalized:\n",
    "            count.append(i)\n",
    "    return count\n",
    "print (wordSearch(list1, 'kendaraan'))\n",
    "def multiWordSearch(doc, keyword):\n",
    "    '''\n",
    "    this funct is to search more than one keyword in list\n",
    "    '''\n",
    "    count = {}\n",
    "    for keywords in keyword:\n",
    "        count[keywords] = wordSearch(doc, keyword)\n",
    "    return count\n",
    "print (multiWordSearch(list1, key[0]))"
   ]
  },
  {
   "cell_type": "markdown",
   "metadata": {},
   "source": [
    "higher-order function (fungsi didalam fungsi)"
   ]
  },
  {
   "cell_type": "code",
   "execution_count": null,
   "metadata": {},
   "outputs": [],
   "source": [
    "def mult_by_five(x):\n",
    "    return 5 * x\n",
    "def call(fn, arg):\n",
    "    \"\"\"Call fn on arg\"\"\"\n",
    "    return fn(arg)\n",
    "def squared_call(fn, arg):\n",
    "    \"\"\"Call fn on the result of calling fn on arg\"\"\"\n",
    "    return fn(fn(arg))\n",
    "print(\n",
    "    call(mult_by_five, 1),\n",
    "    squared_call(mult_by_five, 1),\n",
    "    sep='\\n')"
   ]
  },
  {
   "cell_type": "markdown",
   "metadata": {},
   "source": [
    "# Note 12: Lambda"
   ]
  },
  {
   "cell_type": "code",
   "execution_count": null,
   "metadata": {},
   "outputs": [],
   "source": [
    "# lambda same like func\n",
    "def add(x,y):\n",
    "  return x + y\n",
    "x = add(1,2)\n",
    "print (x)\n",
    "# if using lambda\n",
    "add1 = lambda x,y : x + y\n",
    "y = add1(1,2)\n",
    "print (y)"
   ]
  },
  {
   "cell_type": "code",
   "execution_count": null,
   "metadata": {},
   "outputs": [],
   "source": [
    "# another lambda\n",
    "l = [2,4,7,3,14,19]\n",
    "for i in l:\n",
    "    my_lambda = lambda x : (x % 2) == 1\n",
    "    print(my_lambda(i))"
   ]
  },
  {
   "cell_type": "markdown",
   "metadata": {},
   "source": [
    "# Note 13: Args (*) dan Kwargs (**)"
   ]
  },
  {
   "cell_type": "code",
   "execution_count": null,
   "metadata": {},
   "outputs": [],
   "source": [
    "# buat fungsi jika output lebih dari parameter\n",
    "# Args bisa buat list\n",
    "def nama(*text):\n",
    "  print (text)\n",
    "\n",
    "nama('adel', 'beni', 'caca', 'diki')"
   ]
  },
  {
   "cell_type": "code",
   "execution_count": null,
   "metadata": {},
   "outputs": [],
   "source": [
    "# Kwargs bisa buat dict\n",
    "def bio(**text):\n",
    "  for x in text:\n",
    "    print (x, ' : ', text[x])\n",
    "\n",
    "bio(nama = 'adel', umur = '17', hobi = 'belajar')"
   ]
  },
  {
   "cell_type": "markdown",
   "metadata": {},
   "source": [
    "# Note 14: Local and Global Variable"
   ]
  },
  {
   "cell_type": "code",
   "execution_count": null,
   "metadata": {},
   "outputs": [],
   "source": [
    "nama = 'andi'\n",
    "def x():\n",
    "    global nama               # lokal berubah global\n",
    "    nama = nama + ' dan beni' # var global bisa diedit\n",
    "    print (nama)\n",
    "\n",
    "#hasil print akan sama\n",
    "x()\n",
    "print (nama)"
   ]
  },
  {
   "cell_type": "markdown",
   "metadata": {},
   "source": [
    "# Note 15: Error Method"
   ]
  },
  {
   "cell_type": "code",
   "execution_count": null,
   "metadata": {},
   "outputs": [],
   "source": [
    "# metode raise exception\n",
    "raise Exception('Ada kesalahan dibawah')\n",
    "print (alpha) # ini gak keprint"
   ]
  },
  {
   "cell_type": "code",
   "execution_count": null,
   "metadata": {},
   "outputs": [],
   "source": [
    "# metode try\n",
    "try:\n",
    "    print (alpha) # ini gak keprint\n",
    "except:\n",
    "    print ('ada eror di bagian ini')"
   ]
  },
  {
   "cell_type": "code",
   "execution_count": null,
   "metadata": {},
   "outputs": [],
   "source": [
    "# cara assert\n",
    "alpha = ['ayam', 'babi', 'cicak']\n",
    "def is_it_var():\n",
    "    assert('domba' in alpha),'tidak di variabel' # pake assert buat eror\n",
    "is_it_var()\n",
    "print ('Hello') # ini gak keprint"
   ]
  },
  {
   "cell_type": "markdown",
   "metadata": {},
   "source": [
    "# Note 16: Compile"
   ]
  },
  {
   "cell_type": "markdown",
   "metadata": {},
   "source": [
    "```\n",
    "compile py ketik di terminal\n",
    "    python (-m py_compile (nama modul))\n",
    "run di terminal\n",
    "    (.\\__pycache__\\(nama modul))\n",
    "```"
   ]
  },
  {
   "cell_type": "markdown",
   "metadata": {},
   "source": [
    "# Note 17: Shortcut"
   ]
  },
  {
   "cell_type": "markdown",
   "metadata": {},
   "source": [
    "```\n",
    "Alt  + arrow : move linecode up and down\n",
    "Ctrl + /     : insert comment\n",
    "Ctrl + d     : multiple selection\n",
    "\n",
    "Alt  + shift + arrow : copy linecode\n",
    "Ctrl + Alt   + arrow : multiple selection\n",
    "Ctrl + shift + k     : delete line code\n",
    "Ctrl + shift + a     : python run file\n",
    "```\n",
    "\n",
    "<code>\n",
    "str = \"This is a block level code\"\n",
    "print(str)\n",
    "</code>\n",
    "\n",
    "```Python\n",
    "str = \"This is block level code\"\n",
    "print(str)\n",
    "```\n",
    "*line* <br> **line**"
   ]
  }
 ],
 "metadata": {
  "interpreter": {
   "hash": "2141ddae93ce2242f636aae004238769df17c44c2e373e46294c11a7a03087f4"
  },
  "kernelspec": {
   "display_name": "Python 3 (ipykernel)",
   "language": "python",
   "name": "python3"
  },
  "language_info": {
   "codemirror_mode": {
    "name": "ipython",
    "version": 3
   },
   "file_extension": ".py",
   "mimetype": "text/x-python",
   "name": "python",
   "nbconvert_exporter": "python",
   "pygments_lexer": "ipython3",
   "version": "3.10.2"
  }
 },
 "nbformat": 4,
 "nbformat_minor": 2
}
