{
 "cells": [
  {
   "cell_type": "markdown",
   "metadata": {},
   "source": [
    "# Note 1: Introduction"
   ]
  },
  {
   "cell_type": "code",
   "execution_count": null,
   "metadata": {},
   "outputs": [],
   "source": [
    "print (\"Hello World!\")"
   ]
  },
  {
   "cell_type": "markdown",
   "metadata": {},
   "source": [
    "# Note 2: Format Print"
   ]
  },
  {
   "cell_type": "code",
   "execution_count": null,
   "metadata": {},
   "outputs": [],
   "source": [
    "# string\n",
    "nama = 'Malika'\n",
    "# integer\n",
    "umur = 17\n",
    "\n",
    "# casting ke str\n",
    "print (nama + \"\\n\" + str(umur))"
   ]
  },
  {
   "cell_type": "code",
   "execution_count": null,
   "metadata": {},
   "outputs": [],
   "source": [
    "# slicing variable\n",
    "data = \"Hello world!\"\n",
    "print(data[2])      # l\n",
    "print(data[-2])     # d\n",
    "print(data[2:8])    # llo wo\n",
    "print(data[:8])     # Hello wo\n",
    "print(data[:-2])    # Hello worl\n",
    "print(data[-2:])    # d!\n",
    "print(data[1:10:3]) # eoo \n",
    "print(data[0:12:4]) # [0:12:4] same as [::4])\n",
    "print(data[::-1])   # !dlrow olleH"
   ]
  },
  {
   "cell_type": "markdown",
   "metadata": {},
   "source": [
    "### Metode %<br>\n",
    ">Format<br>\n",
    ">%s - String (or any object with a string representation, like numbers)<br>\n",
    ">%d - Integers<br>\n",
    ">%f - Floating point numbers<br>\n",
    ">%.<number of digits>f - Floating point numbers with a fixed amount of digits to the right of the dot<br>\n",
    ">%x/%X - Integers in hex representation (lowercase/uppercase)<br>\n",
    ">\n",
    ">Any object which is not a string can be formatted using the %s operator as well. The string which returns is formatted as the string<br>"
   ]
  },
  {
   "cell_type": "code",
   "execution_count": null,
   "metadata": {},
   "outputs": [],
   "source": [
    "# contoh 1\n",
    "print ('%s umurnya %s' %(nama, umur))\n",
    "\n",
    "# contoh 2\n",
    "data = 1\n",
    "print ('%s' % data)\n",
    "\n",
    "# contoh 3\n",
    "data = (\"John\", \"Doe\", 53.44)\n",
    "format_string = \"Hello %s %s. Your current balance is $%s.\"\n",
    "print(format_string % data)"
   ]
  },
  {
   "cell_type": "markdown",
   "metadata": {},
   "source": [
    "### metode {}.format()"
   ]
  },
  {
   "cell_type": "code",
   "execution_count": null,
   "metadata": {},
   "outputs": [],
   "source": [
    "# contoh 1\n",
    "print ('{1} umurnya {0}'.format(nama, umur))"
   ]
  },
  {
   "cell_type": "code",
   "execution_count": null,
   "metadata": {},
   "outputs": [],
   "source": [
    "# contoh 2\n",
    "planet = \"Pluto\"\n",
    "pluto_mass = 1.303 * 10**22\n",
    "earth_mass = 5.9722 * 10**24\n",
    "population = 52910390.9\n",
    "# print 'Pluto weighs about 1.3e+22 kilograms (0.22% of Earth's mass).\n",
    "#        It is home to 52,910,390.9 Plutonians.'\n",
    "print (\"\"\"{} weighs about {:.2} kilograms ({:.2%} of Earth's mass).\n",
    "      It is home to {:,} Plutonians.\"\"\".\n",
    "      format(planet, pluto_mass, pluto_mass/earth_mass, population))"
   ]
  },
  {
   "cell_type": "markdown",
   "metadata": {},
   "source": [
    "### string method\n",
    ">.abs()<br>\n",
    ">.endswith()<br>\n",
    ">.index()<br>\n",
    ">.isdigit()<br>\n",
    ">.join()<br>\n",
    ">.lower()<br>\n",
    ">.replace<br>\n",
    ">.split()<br>\n",
    ">.startswith()<br>\n",
    ">.upper()<br>\n",
    ">.count()<br>"
   ]
  },
  {
   "cell_type": "code",
   "execution_count": null,
   "metadata": {},
   "outputs": [],
   "source": [
    "# split method\n",
    "claim1 = 'Pluto is a planet!'\n",
    "x = claim1.split()\n",
    "print (x) # print ['Pluto', 'is', 'a', 'planet!']"
   ]
  },
  {
   "cell_type": "code",
   "execution_count": null,
   "metadata": {},
   "outputs": [],
   "source": [
    "claim1 = 'Pluto-is-a-planet!'\n",
    "a,b,c,d = claim1.split('-')\n",
    "print (a) # print 'Pluto'"
   ]
  },
  {
   "cell_type": "code",
   "execution_count": null,
   "metadata": {},
   "outputs": [],
   "source": [
    "# join method\n",
    "claim2 = ['Pluto', 'is', 'a', 'planet!']\n",
    "y = ' 👏 '.join([word for word in claim2])\n",
    "print (y) # print 'Pluto 👏 is 👏 a 👏 planet!'"
   ]
  },
  {
   "cell_type": "code",
   "execution_count": null,
   "metadata": {},
   "outputs": [],
   "source": [
    "# replace method\n",
    "claim3 = 'Pluto is a planet!'\n",
    "claim3Underscore = claim1.replace(' ', '_')\n",
    "print (claim3Underscore) # print 'Pluto_is_a_planet!'"
   ]
  },
  {
   "cell_type": "code",
   "execution_count": null,
   "metadata": {},
   "outputs": [],
   "source": [
    "# isdigit method\n",
    "x = '12345678x'\n",
    "print (str.isdigit(x)) # print False"
   ]
  },
  {
   "cell_type": "code",
   "execution_count": null,
   "metadata": {},
   "outputs": [],
   "source": [
    "# quote type\n",
    "print(\"Pluto's a planet!\")       # print with one quote\n",
    "print('My dog is named \"Pluto\"') # print with two quote"
   ]
  },
  {
   "cell_type": "markdown",
   "metadata": {},
   "source": [
    "# Note 3: Input"
   ]
  },
  {
   "cell_type": "code",
   "execution_count": null,
   "metadata": {},
   "outputs": [],
   "source": [
    "# input 1\n",
    "nama = input(\"Siapa nama kamu? \")\n",
    "umur = input(\"Berapa umur kamu? \")\n",
    "print (\"Salam kenal ya \" + nama + \" diumur kamu yang ke \" + umur)"
   ]
  },
  {
   "cell_type": "code",
   "execution_count": null,
   "metadata": {},
   "outputs": [],
   "source": [
    "# input 2\n",
    "baik = True\n",
    "imut = True\n",
    "tipe = 'wanita'\n",
    "# if can make into branch\n",
    "if baik and imut:\n",
    "  if tipe == input(''):\n",
    "    print (\"Gas\")\n",
    "  else:\n",
    "    print ('engga dlu')"
   ]
  },
  {
   "cell_type": "markdown",
   "metadata": {},
   "source": [
    "# Note 4: Type of Variable and If Function"
   ]
  },
  {
   "cell_type": "markdown",
   "metadata": {},
   "source": [
    "### Variable Type\n",
    "```python\n",
    "int     #integer\n",
    "float   #float\n",
    "str     #string\n",
    "bool    #boolean\n",
    "complex #complex\n",
    "```"
   ]
  },
  {
   "cell_type": "code",
   "execution_count": null,
   "metadata": {},
   "outputs": [],
   "source": [
    "print (\"a: eh bayar utanglu sini.\")\n",
    "print (\"b: ywdh nih gw bayar.\")\n",
    "print (\"a: lu punya uang berapa?\")\n",
    "\n",
    "uang = input(\"b: \")\n",
    "utang = 10000\n",
    "\n",
    "# elif bisa ditulis lebih dari sekali\n",
    "if int(uang) == utang:\n",
    "  print (\"a: oke lunas ya\")\n",
    "elif int(uang) < 5000:\n",
    "  print (\"a: yaampun miskin banget\")\n",
    "elif int(uang) < utang:\n",
    "  print (\"a: duitnya kurang bang\")\n",
    "else:\n",
    "  print (\"a: anjay tumben lu lebihin bayar utang\")"
   ]
  },
  {
   "cell_type": "markdown",
   "metadata": {},
   "source": [
    "# Note 5: Boolean"
   ]
  },
  {
   "cell_type": "markdown",
   "metadata": {},
   "source": [
    "### boolean operator\n",
    "```Python\n",
    "==, !=, >, <, >=, <=\n",
    "and = &  (kalau keduanya true)\n",
    "or  = |  (kalau salah satunya true)\n",
    "not = != (buat bikin pernyataan jadi sebaliknya)\n",
    "```"
   ]
  },
  {
   "cell_type": "code",
   "execution_count": null,
   "metadata": {},
   "outputs": [],
   "source": [
    "x = 10\n",
    "y = 5\n",
    "z = -3\n",
    "if x > y and y < x:\n",
    "  print ('keduanya benar')\n",
    "\n",
    "if x > y or x < y:\n",
    "  print ('salah satunya salah')\n",
    "\n",
    "if not x < y:\n",
    "  print ('iya itu tidak benar')"
   ]
  },
  {
   "cell_type": "markdown",
   "metadata": {},
   "source": [
    "# Note 6: While"
   ]
  },
  {
   "cell_type": "code",
   "execution_count": null,
   "metadata": {},
   "outputs": [],
   "source": [
    "# while gunanya untuk bikin pengulangan\n",
    "x = 1\n",
    "while x < 5:\n",
    "  print (\"lanjut.\")\n",
    "  x = x + 1\n",
    "else:\n",
    "  print ('berhenti di' , x)"
   ]
  },
  {
   "cell_type": "code",
   "execution_count": null,
   "metadata": {},
   "outputs": [],
   "source": [
    "# fungsi break untuk berhenti saat mencapai nilai tertentu\n",
    "x = 0\n",
    "while True:\n",
    "    print(x)\n",
    "    x = x + 1\n",
    "    if x >= 5:\n",
    "        break"
   ]
  },
  {
   "cell_type": "code",
   "execution_count": null,
   "metadata": {},
   "outputs": [],
   "source": [
    "# make a Pyramid1\n",
    "a = 1\n",
    "while a <= 5:\n",
    "  b = 0\n",
    "  while b < a:\n",
    "    print ('*', end=\"\") # end biar next print nyatu\n",
    "    b = b + 1\n",
    "    # diperlukan var baru karena jika memakai var sebelumnya\n",
    "    # akan mengubah nilainya ketika diloop pertama\n",
    "    # dari seharusnya 1=2=3=4 jika menggunakan 1 var akan\n",
    "    # menjadi 1=2=1=2=1\n",
    "  print ()\n",
    "  a = a + 1"
   ]
  },
  {
   "cell_type": "code",
   "execution_count": null,
   "metadata": {},
   "outputs": [],
   "source": [
    "x = 1\n",
    "bintang = \"\"\n",
    "while x <= 5: \n",
    "  y = x\n",
    "  while y > 0:\n",
    "    bintang = bintang + \"*\" # dapat ditulis bintang += \"*\"\n",
    "    y = y - 1\n",
    "  bintang = bintang + \"\\n\"\n",
    "  x = x + 1 \n",
    "print (bintang)"
   ]
  },
  {
   "cell_type": "markdown",
   "metadata": {},
   "source": [
    "# Note 7: For and Tuple"
   ]
  },
  {
   "cell_type": "markdown",
   "metadata": {},
   "source": [
    "### For"
   ]
  },
  {
   "cell_type": "code",
   "execution_count": null,
   "metadata": {},
   "outputs": [],
   "source": [
    "# fungsi for\n",
    "for a in range(1,5):\n",
    "  for b in range (1,5):\n",
    "    c = a*b\n",
    "    print (c, end=\" \")\n",
    "  print ()"
   ]
  },
  {
   "cell_type": "code",
   "execution_count": null,
   "metadata": {},
   "outputs": [],
   "source": [
    "# for x in var gunanya buat loop isi dari variabel atau list\n",
    "nama = ['Ani', 'Budi', 'Cika']\n",
    "nama1 = 'Budi'\n",
    "for x in nama:\n",
    "  print ('ini namaya ', nama)\n",
    "for x in nama1:\n",
    "  print (nama)"
   ]
  },
  {
   "cell_type": "code",
   "execution_count": null,
   "metadata": {},
   "outputs": [],
   "source": [
    "# fungsi continue to skip command\n",
    "for x in range(10):\n",
    "    if x % 2 == 0:\n",
    "        continue\n",
    "    print(x) # 1,3,5,7,9"
   ]
  },
  {
   "cell_type": "code",
   "execution_count": null,
   "metadata": {},
   "outputs": [],
   "source": [
    "# for loop dari modul built in\n",
    "import re\n",
    "for x in dir(re):\n",
    "    if 'find' in x:\n",
    "        print (x)"
   ]
  },
  {
   "cell_type": "markdown",
   "metadata": {},
   "source": [
    "Example"
   ]
  },
  {
   "cell_type": "code",
   "execution_count": null,
   "metadata": {},
   "outputs": [],
   "source": [
    "# exaFor 1 (print only uppercase letter in string)\n",
    "s = 'steganograpHy is the practicE of conceaLing a fiLe Or video.'\n",
    "for char in s:\n",
    "    if char.isupper():      # use isupper\n",
    "        print(char, end='') # HELLO"
   ]
  },
  {
   "cell_type": "markdown",
   "metadata": {},
   "source": [
    "### Tuple"
   ]
  },
  {
   "cell_type": "code",
   "execution_count": null,
   "metadata": {},
   "outputs": [],
   "source": [
    "# tuple () mirip list bedanya dia immutable (gabisa pake method)\n",
    "nama1 = ('Ale', 'Bidi', 'Coki')\n",
    "nama2 = ['Ale', 'Bidi', 'Coki']\n",
    "\n",
    "print (nama1[0])\n",
    "print (len(nama1))  # jumlah data\n",
    "print (max(nama1))  # tertinggi\n",
    "print (list(nama1)) # ganti ke list\n",
    "print (tuple(nama2))"
   ]
  },
  {
   "cell_type": "markdown",
   "metadata": {},
   "source": [
    "# Note 8: List"
   ]
  },
  {
   "cell_type": "code",
   "execution_count": 40,
   "metadata": {},
   "outputs": [],
   "source": [
    "# list tandanya pake []\n",
    "nama = ['Ani', 'Budi', 'Cika']\n",
    "nama1 = 'Budi'\n",
    "angka = [1,2,3]"
   ]
  },
  {
   "cell_type": "code",
   "execution_count": null,
   "metadata": {},
   "outputs": [],
   "source": [
    "# cara akses list\n",
    "x, y, z = nama\n",
    "print (x, y, z, sep='_') # sep to change space between values\n",
    "print (nama[0])"
   ]
  },
  {
   "cell_type": "code",
   "execution_count": null,
   "metadata": {},
   "outputs": [],
   "source": [
    "# method in list\n",
    "nama.append ('Diki')  # nambahin\n",
    "nama[0] = 'Akel'      # ganti\n",
    "del nama[1]           # hapus metode 1\n",
    "nama.pop(1)           # hapus metode 2\n",
    "nama.index('Budi')    # akses index\n",
    "nama.count('Budi')    # how much budi data\n",
    "len(nama)             # jumlah data di  list\n",
    "sorted(nama)          # urutin list\n",
    "sum(angka)            # total list\n",
    "print (nama)\n",
    "print (nama[0])"
   ]
  },
  {
   "cell_type": "code",
   "execution_count": null,
   "metadata": {},
   "outputs": [],
   "source": [
    "# list in list\n",
    "nama = [['Ani', 'Budi', 'Cika'],\n",
    "        ['Andi', 'Bina', 'Cita']]\n",
    "x = nama[1][0]  # acces method\n",
    "print (x)       # andi"
   ]
  },
  {
   "cell_type": "markdown",
   "metadata": {},
   "source": [
    "Comprehension List"
   ]
  },
  {
   "cell_type": "code",
   "execution_count": null,
   "metadata": {},
   "outputs": [],
   "source": [
    "# exaCompreList 1 (print length word except 'the')\n",
    "sentence = \"the quick brown fox jumps over the lazy dog\"\n",
    "words = sentence.split()\n",
    "# basic code\n",
    "word_lengths = []\n",
    "for word in words:\n",
    "  if word != \"the\":\n",
    "    word_lengths.append (len(word))\n",
    "# comprehen with just one code\n",
    "word_lengths = [len(word) for word in words if word != \"the\"]\n",
    "print(word_lengths)"
   ]
  },
  {
   "cell_type": "code",
   "execution_count": null,
   "metadata": {},
   "outputs": [],
   "source": [
    "# exaCompreList 2\n",
    "data1 = [34.6, -203.4, 44.9, 68.3, -12.2, 44.6, 12.7]\n",
    "integer = [int(x) for x in data1 if x > 0]\n",
    "print(integer)"
   ]
  },
  {
   "cell_type": "code",
   "execution_count": null,
   "metadata": {},
   "outputs": [],
   "source": [
    "# exaCompreList 3\n",
    "squares = [n**2 for n in range(10)]\n",
    "print (squares)"
   ]
  },
  {
   "cell_type": "code",
   "execution_count": null,
   "metadata": {},
   "outputs": [],
   "source": [
    "# exaCompreList 4\n",
    "planets = ['Mercurius', 'Venus', 'Earth', 'Mars', 'Jupiter',\n",
    "           'Saturnus', 'Uranus', 'Neptunus']\n",
    "short_planets = [planet for planet in planets if len(planet) < 6]\n",
    "print (short_planets)"
   ]
  },
  {
   "cell_type": "code",
   "execution_count": null,
   "metadata": {},
   "outputs": [],
   "source": [
    "# exaCompreList 5(count negative number in list)\n",
    "nums = [5, -1, -2, 0, 3]\n",
    "n_negative = 0\n",
    "for num in nums:\n",
    "    if num < 0:\n",
    "        n_negative = n_negative + 1\n",
    "print (n_negative)\n",
    "  # can be comprehen into this\n",
    "print (len([num for num in nums if num < 0]))\n",
    "  # or into this\n",
    "print (sum([num < 0 for num in nums]))"
   ]
  },
  {
   "cell_type": "code",
   "execution_count": null,
   "metadata": {},
   "outputs": [],
   "source": [
    "# exaCompreList 6 (check lucky number in list (luckNumb = 7))\n",
    "nums = [1,2,3,4,5,6,7]\n",
    "for num in nums:\n",
    "    if num % 7 == 0:\n",
    "        print (True)\n",
    "    else:\n",
    "        continue\n",
    "  # comprehen into this\n",
    "print (any([num % 7 == 0 for num in nums]))"
   ]
  },
  {
   "cell_type": "markdown",
   "metadata": {},
   "source": [
    ">line\n",
    "\n",
    "<code>Python\n",
    "str = \"This is a block level code\"\n",
    "print(str)\n",
    "</code>\n",
    "\n",
    "```Python\n",
    "str = \"This is block level code\"\n",
    "print(str)\n",
    "```\n",
    "*line* <br> **line**"
   ]
  }
 ],
 "metadata": {
  "language_info": {
   "name": "python"
  },
  "orig_nbformat": 4
 },
 "nbformat": 4,
 "nbformat_minor": 2
}
