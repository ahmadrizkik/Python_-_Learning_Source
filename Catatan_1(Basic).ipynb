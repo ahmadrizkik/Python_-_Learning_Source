{
 "cells": [
  {
   "cell_type": "markdown",
   "metadata": {},
   "source": [
    "Note 1:\n",
    "Introduction"
   ]
  },
  {
   "cell_type": "code",
   "execution_count": null,
   "metadata": {},
   "outputs": [],
   "source": [
    "print (\"Hello World!\")"
   ]
  },
  {
   "cell_type": "markdown",
   "metadata": {},
   "source": [
    "Note 2:\n",
    "Format Print"
   ]
  },
  {
   "cell_type": "code",
   "execution_count": null,
   "metadata": {},
   "outputs": [],
   "source": [
    "nama = 'Malika' # string\n",
    "umur = 17       # integer\n",
    "nama, umur, tempat = 'Malika', '17', 'Jakarta'\n",
    "\n",
    "# casting ke str\n",
    "print (nama + \"\\n\" + str(umur))"
   ]
  },
  {
   "cell_type": "code",
   "execution_count": null,
   "metadata": {},
   "outputs": [],
   "source": [
    "# metode %\n",
    "''' string format\n",
    "%s - String (or any object with a string representation, like numbers)\n",
    "%d - Integers\n",
    "%f - Floating point numbers\n",
    "%.<number of digits>f - Floating point numbers with a \n",
    "fixed amount of digits to the right of the dot.\n",
    "%x/%X - Integers in hex representation (lowercase/uppercase)\n",
    "  Any object which is not a string can be formatted using the %s operator\n",
    "  as well. The string which returns is formatted as the string.\n",
    "'''\n",
    "# contoh 1\n",
    "print ('%s umurnya %s' %(nama, umur))\n",
    "\n",
    "# contoh 2\n",
    "data = 1\n",
    "print ('%s' % data)\n",
    "\n",
    "# contoh 3\n",
    "data = (\"John\", \"Doe\", 53.44)\n",
    "format_string = \"Hello %s %s. Your current balance is $%s.\"\n",
    "print(format_string % data)"
   ]
  }
 ],
 "metadata": {
  "language_info": {
   "name": "python"
  },
  "orig_nbformat": 4
 },
 "nbformat": 4,
 "nbformat_minor": 2
}
