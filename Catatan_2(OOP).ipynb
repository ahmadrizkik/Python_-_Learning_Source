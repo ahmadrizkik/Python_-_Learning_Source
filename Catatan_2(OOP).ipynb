{
 "cells": [
  {
   "cell_type": "markdown",
   "metadata": {},
   "source": [
    "# Note 1: Class"
   ]
  },
  {
   "cell_type": "code",
   "execution_count": null,
   "metadata": {},
   "outputs": [],
   "source": [
    "# semua di class dapat dipanggil\n",
    "class Player:\n",
    "    def getName(self, name1):\n",
    "        self.name = name1\n",
    "        return self.name\n",
    "\n",
    "pemain = Player() # cara memanggil class butuh object (var)\n",
    "                  # not use arg cause not init\n",
    "print (pemain.getName('Alpha'))"
   ]
  },
  {
   "cell_type": "markdown",
   "metadata": {},
   "source": [
    "# Note 2: Init in Class"
   ]
  },
  {
   "cell_type": "code",
   "execution_count": null,
   "metadata": {},
   "outputs": [],
   "source": [
    "# init otomatis dipakai saat memanggil class\n",
    "class Player:\n",
    "    # init tidak perlu var dan direturn\n",
    "    def __init__(self, name1, speed1):\n",
    "        self.name  = name1\n",
    "        self.speed = speed1\n",
    "    def getName(self):\n",
    "        return self.name\n",
    "    def getSpeed(self):\n",
    "        return self.speed\n",
    "\n",
    "player1 = Player('alpha', '68') # wajib mengisi parameter karena init\n",
    "player2 = Player('beta', '78')\n",
    "\n",
    "print (player1.getName() + ' punya speed ' + player1.getSpeed())\n",
    "print (player2.getName() + ' punya speed ' + player2.getSpeed())"
   ]
  },
  {
   "cell_type": "code",
   "execution_count": null,
   "metadata": {},
   "outputs": [],
   "source": [
    "# more simple code\n",
    "class Player:\n",
    "    def __init__(self, name1, speed1):\n",
    "        self.name  = name1\n",
    "        self.speed = speed1\n",
    "\n",
    "player1 = Player('alpha', '68')\n",
    "player2 = Player('beta', '78')\n",
    "\n",
    "# can print str cause init yang telah menjalankan code\n",
    "print (player1.name, player1.speed)\n",
    "print (player2.name, player2.speed)"
   ]
  },
  {
   "cell_type": "markdown",
   "metadata": {},
   "source": [
    "# Note 3: Child in Class"
   ]
  },
  {
   "cell_type": "code",
   "execution_count": null,
   "metadata": {},
   "outputs": [],
   "source": [
    "# class utama disebut parent class\n",
    "class Player:\n",
    "    def __init__(self, name1, speed1):\n",
    "        self.name  = name1\n",
    "        self.speed = speed1\n",
    "\n",
    "# child class adalah class baru \n",
    "# disertai nilai dari parent class\n",
    "class PlayerLaos(Player):\n",
    "    def setAge(self, age1):\n",
    "        self.age = age1\n",
    "        return self.age\n",
    "\n",
    "player1 = PlayerLaos('alpha', '89')\n",
    "print (player1.name + ' umurnya ' + player1.setAge('23'))"
   ]
  },
  {
   "cell_type": "markdown",
   "metadata": {},
   "source": [
    "# Note 4: Override"
   ]
  },
  {
   "cell_type": "code",
   "execution_count": null,
   "metadata": {},
   "outputs": [],
   "source": [
    "class Player:\n",
    "    def __init__(self, name1, speed1):\n",
    "        self.name  = name1\n",
    "        self.speed = speed1\n",
    "    def setSkill(self):\n",
    "        return 'normal'\n",
    "\n",
    "# override mirip ganti ([]) di list or dict\n",
    "class PlayerLaos(Player):\n",
    "    def setSkill(self):\n",
    "        return 'gacor'\n",
    "class PlayerCina(Player):\n",
    "    pass\n",
    "\n",
    "player1 = PlayerLaos('alpha', '89')\n",
    "player2 = PlayerCina('beta', '78')\n",
    "\n",
    "print (player1.name + ' skillnya ' + player1.setSkill())\n",
    "print (player2.name + ' skillnya ' + player2.setSkill())"
   ]
  },
  {
   "cell_type": "markdown",
   "metadata": {},
   "source": [
    "# Note 5: Super"
   ]
  },
  {
   "cell_type": "code",
   "execution_count": null,
   "metadata": {},
   "outputs": [],
   "source": [
    "class Player:\n",
    "    def __init__(self, name1):\n",
    "        self.name  = name1\n",
    "\n",
    "# saat di print akan eror\n",
    "# karena ada init di child saat ada init di parent\n",
    "class PlayerLaos(Player):\n",
    "    def __init__(self):\n",
    "        print ('Hallo Player Laos')\n",
    "pemain1 = PlayerLaos('Alpha')\n",
    "print (pemain1)\n",
    "\n",
    "# menggunakan cara ini\n",
    "class PlayerLaos(Player):\n",
    "    def __init__(self, name1):\n",
    "        Player.__init__(self, name1) # gunakan ini\n",
    "        print ('Hallo Player Laos')\n",
    "pemain1 = PlayerLaos('Alpha')\n",
    "print (pemain1.name)\n",
    "\n",
    "# disederhanakan dengan super\n",
    "class PlayerLaos(Player):\n",
    "    def __init__(self, name1):\n",
    "        super().__init__(name1) # metode super\n",
    "        print ('Hallo Player Laos')\n",
    "pemain1 = PlayerLaos('Alpha')\n",
    "print ('Nama pemain Laos yaitu ' + pemain1.name)"
   ]
  },
  {
   "cell_type": "markdown",
   "metadata": {},
   "source": [
    "# Note 7: Protected/Privated Data"
   ]
  },
  {
   "cell_type": "code",
   "execution_count": null,
   "metadata": {},
   "outputs": [],
   "source": [
    "class player:\n",
    "    def __init__(self, name1):\n",
    "        self.name = name1\n",
    "        self._age = '23' # (_) symbol for another programmer\n",
    "                         # abt privated data\n",
    "        self.__skill = 'api' # error when being printed,\n",
    "                             # unless use func\n",
    "    def getSkill(self):\n",
    "        return self.__skill\n",
    "namaplayer = player('alpha')\n",
    "namaplayer.name = 'Beta' # change value func\n",
    "namaplayer.__skill = 'air' # will not change\n",
    "namaplayer._player__skill = 'tanah' # getting change\n",
    "print (namaplayer.name)\n",
    "print (namaplayer._age)\n",
    "print (namaplayer.__skill) # will eror\n",
    "print (namaplayer.getSkill()) # can acces privated"
   ]
  },
  {
   "cell_type": "markdown",
   "metadata": {},
   "source": [
    "# Note 8: ClassMethod and StaticMethod"
   ]
  },
  {
   "cell_type": "code",
   "execution_count": null,
   "metadata": {},
   "outputs": [],
   "source": [
    "class fruit:\n",
    "    def __init__(self, fruit1, size1):\n",
    "        self.name1 = fruit1\n",
    "        self.size1 = size1\n",
    "    def getSmallFruit(self, fruit2, size2):\n",
    "        self.name2 = fruit2\n",
    "        self.size2 = size2\n",
    "        return self.name2, self.size2\n",
    "\n",
    "    @staticmethod\n",
    "    # statmet can print without object and self arg\n",
    "    def fruitColour(colour1):\n",
    "        return 'Apple warnanya adalah ' + colour1\n",
    "    \n",
    "    @classmethod\n",
    "    # clasmet same with statmed, but need cls arg\n",
    "    # classmet can acces statmed, but cant parent\n",
    "    # bcos parent have self arg\n",
    "    def fruitColour1(cls, colour2):\n",
    "        return cls.fruitColour(colour2)\n",
    "\n",
    "fruitA = fruit('Apple', 'Big')\n",
    "print (fruitA.name1 + ' ' + fruitA.size1)\n",
    "print (fruitA.getSmallFruit('Mango', 'Small'))\n",
    "\n",
    "print (fruit.fruitColour('merah')) # can print without object\n",
    "print (fruit.fruitColour1('red'))"
   ]
  },
  {
   "cell_type": "markdown",
   "metadata": {},
   "source": [
    "# Note 9: Property and Setter"
   ]
  },
  {
   "cell_type": "code",
   "execution_count": null,
   "metadata": {},
   "outputs": [],
   "source": [
    "class fruit:\n",
    "    def __init__(self, name1, size1):\n",
    "        self.name = name1\n",
    "        self.size = size1\n",
    "\n",
    "    @property\n",
    "    # properti change func into basic variabel\n",
    "    def infoFruit(self):\n",
    "        return self.name + ' ukurannya ' + self.size\n",
    "\n",
    "    @infoFruit.setter\n",
    "    # setter to change data in property\n",
    "    def infoFruit(self, data):\n",
    "        name1, size1 = data.split(' ')\n",
    "        self.name = name1\n",
    "        self.size = size1\n",
    "\n",
    "\n",
    "fruitOne = fruit('Apple', 'Big')\n",
    "fruitOne.infoFruit = 'AppleFlorin SoBig'\n",
    "print (fruitOne.infoFruit) # dont use () cause not func"
   ]
  }
 ],
 "metadata": {
  "interpreter": {
   "hash": "2141ddae93ce2242f636aae004238769df17c44c2e373e46294c11a7a03087f4"
  },
  "kernelspec": {
   "display_name": "Python 3.10.2 64-bit",
   "language": "python",
   "name": "python3"
  },
  "language_info": {
   "codemirror_mode": {
    "name": "ipython",
    "version": 3
   },
   "file_extension": ".py",
   "mimetype": "text/x-python",
   "name": "python",
   "nbconvert_exporter": "python",
   "pygments_lexer": "ipython3",
   "version": "3.10.2"
  },
  "orig_nbformat": 4
 },
 "nbformat": 4,
 "nbformat_minor": 2
}
