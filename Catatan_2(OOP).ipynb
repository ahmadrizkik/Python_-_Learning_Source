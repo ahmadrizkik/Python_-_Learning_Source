{
 "cells": [
  {
   "cell_type": "markdown",
   "metadata": {},
   "source": [
    "# Note 1: Class"
   ]
  },
  {
   "cell_type": "code",
   "execution_count": null,
   "metadata": {},
   "outputs": [],
   "source": [
    "# semua di class dapat dipanggil\n",
    "class Player:\n",
    "    def getName(self, name1):\n",
    "        self.name = name1\n",
    "        return self.name\n",
    "\n",
    "pemain = Player() # cara memanggil class butuh object (var)\n",
    "                  # not use arg cause not init\n",
    "print (pemain.getName('Alpha'))"
   ]
  },
  {
   "cell_type": "markdown",
   "metadata": {},
   "source": [
    "# Note 2: Init in Class"
   ]
  },
  {
   "cell_type": "code",
   "execution_count": null,
   "metadata": {},
   "outputs": [],
   "source": [
    "# init otomatis dipakai saat memanggil class\n",
    "class Player:\n",
    "    # init tidak perlu var dan direturn\n",
    "    def __init__(self, name1, speed1):\n",
    "        self.name  = name1\n",
    "        self.speed = speed1\n",
    "    def getName(self):\n",
    "        return self.name\n",
    "    def getSpeed(self):\n",
    "        return self.speed\n",
    "\n",
    "player1 = Player('alpha', '68') # wajib mengisi parameter karena init\n",
    "player2 = Player('beta', '78')\n",
    "\n",
    "print (player1.getName() + ' punya speed ' + player1.getSpeed())\n",
    "print (player2.getName() + ' punya speed ' + player2.getSpeed())"
   ]
  },
  {
   "cell_type": "code",
   "execution_count": null,
   "metadata": {},
   "outputs": [],
   "source": [
    "# more simple code\n",
    "class Player:\n",
    "    def __init__(self, name1, speed1):\n",
    "        self.name  = name1\n",
    "        self.speed = speed1\n",
    "\n",
    "player1 = Player('alpha', '68')\n",
    "player2 = Player('beta', '78')\n",
    "\n",
    "# can print str cause init yang telah menjalankan code\n",
    "print (player1.name, player1.speed)\n",
    "print (player2.name, player2.speed)"
   ]
  }
 ],
 "metadata": {
  "interpreter": {
   "hash": "2141ddae93ce2242f636aae004238769df17c44c2e373e46294c11a7a03087f4"
  },
  "kernelspec": {
   "display_name": "Python 3.10.2 64-bit",
   "language": "python",
   "name": "python3"
  },
  "language_info": {
   "codemirror_mode": {
    "name": "ipython",
    "version": 3
   },
   "file_extension": ".py",
   "mimetype": "text/x-python",
   "name": "python",
   "nbconvert_exporter": "python",
   "pygments_lexer": "ipython3",
   "version": "3.10.2"
  },
  "orig_nbformat": 4
 },
 "nbformat": 4,
 "nbformat_minor": 2
}
