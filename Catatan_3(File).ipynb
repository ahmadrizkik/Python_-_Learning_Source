{
 "cells": [
  {
   "cell_type": "markdown",
   "metadata": {},
   "source": [
    "# Note 1: Import"
   ]
  },
  {
   "cell_type": "code",
   "execution_count": null,
   "metadata": {},
   "outputs": [],
   "source": [
    "# import lib dari file (import nama_module as n_m)\n",
    "# atau spesifik fungsi (from nama_module import fungsi_module)\n",
    "# nama_module.fungsi_module / fungsi_module buat di penamaan\n",
    "\n",
    "# import dari build in module datetime\n",
    "import datetime\n",
    "\n",
    "now = datetime.datetime.now()\n",
    "date = datetime.datetime(2001, 2, 16)\n",
    "\n",
    "print (now)\n",
    "print (date)\n",
    "print (now.strftime('%d %B %Y')) # format tanggal\n",
    "\n",
    "# cek func di module\n",
    "x = dir(datetime)\n",
    "print (x)"
   ]
  },
  {
   "cell_type": "markdown",
   "metadata": {},
   "source": [
    "# Note 2: TXT"
   ]
  },
  {
   "cell_type": "code",
   "execution_count": null,
   "metadata": {},
   "outputs": [],
   "source": [
    "# membuka file bisa dari folder yang sama\n",
    "# atau memanggil absolute path\n",
    "import os\n",
    "# r buat ekstensi (\\)\n",
    "os.chdir(r'C:\\Users\\Rizky\\Documents\\My Data\\File\\Python')\n",
    "\n",
    "text = open('test1.txt', 'w') # new write\n",
    "text.write('Alucard Savage')\n",
    "text = open('test1.txt', 'r') # read\n",
    "\n",
    "data = text.read()\n",
    "print (data)\n",
    "\n",
    "# a+ menulis tanpa menghapus\n",
    "text = open('test1.txt', 'a+') # write\n",
    "text.write('\\nAlucard Savage')\n",
    "text.seek(0) # back to default\n",
    "\n",
    "data = text.read()\n",
    "print (data)"
   ]
  },
  {
   "cell_type": "markdown",
   "metadata": {},
   "source": [
    "# Note 3: CSV"
   ]
  },
  {
   "cell_type": "code",
   "execution_count": null,
   "metadata": {},
   "outputs": [],
   "source": [
    "import csv\n",
    "rows = []\n",
    "\n",
    "# lewat list 1\n",
    "# cara biasa\n",
    "csvfile = open('test1.csv', 'r')\n",
    "csvreader = csv.reader(csvfile)\n",
    "rows = list(csvreader)\n",
    "for row in rows[:5]:\n",
    "    print (row[0] + ' : ' + row[1])\n"
   ]
  },
  {
   "cell_type": "code",
   "execution_count": null,
   "metadata": {},
   "outputs": [],
   "source": [
    "import csv\n",
    "rows = []\n",
    "\n",
    "# lewat list 2\n",
    "# pake metode with\n",
    "with open('test1.csv', 'r') as csvfile:\n",
    "    csvreader = csv.reader(csvfile) # pake list\n",
    "    # bisa pake ini pengganti (rows = list(csvreader))\n",
    "    # for row in csvreader:\n",
    "    #     rows.append(row)\n",
    "    rows = list(csvreader)\n",
    "    print ('Total Baris: ', csvreader.line_num)\n",
    "for row in rows[:5]:\n",
    "    print (row[0] + ' : ' + row[1])"
   ]
  },
  {
   "cell_type": "code",
   "execution_count": null,
   "metadata": {},
   "outputs": [],
   "source": [
    "import csv\n",
    "rows = []\n",
    "\n",
    "# lewat dict\n",
    "with open('test1.csv', 'r') as csvfile:\n",
    "    csvreader = csv.DictReader(csvfile) # pake dict\n",
    "    rows = list(csvreader)\n",
    "    print ('Total Baris: ', csvreader.line_num)\n",
    "for row in rows[1:5]:\n",
    "    print (row['first_name'] + ' : ' + row['email'])"
   ]
  },
  {
   "cell_type": "code",
   "execution_count": null,
   "metadata": {},
   "outputs": [],
   "source": [
    "# mengedit file csv\n",
    "rows = [{'nama': 'Alpha', 'skill' : 'Api',   'power' : 100},\n",
    "        {'nama': 'Beta',  'skill' : 'Tanah', 'power' : 200},\n",
    "        {'nama': 'Gamma', 'skill' : 'Udara', 'power' : 300}]\n",
    "\n",
    "with open('test2.csv', 'a') as csvfile:\n",
    "    fields = ['nama', 'skill', 'power']\n",
    "    writer = csv.DictWriter(csvfile, fieldnames = fields)\n",
    "    writer.writeheader()\n",
    "    writer.writerows(rows)"
   ]
  },
  {
   "cell_type": "markdown",
   "metadata": {},
   "source": [
    "# Note 4: JSON"
   ]
  },
  {
   "cell_type": "code",
   "execution_count": null,
   "metadata": {},
   "outputs": [],
   "source": [
    "import json\n",
    "\n",
    "# data untuk isi file\n",
    "data = {}\n",
    "data['member'] = [\n",
    "    {'name' : 'alpha', 'skill' : 'fly'},\n",
    "    {'name' : 'beta', 'skill' : 'explode'},\n",
    "    {'name' : 'gamma', 'skill' : 'cook'}]\n",
    "\n",
    "# write file\n",
    "with open('test2.txt', 'w') as file:\n",
    "    json.dump(data, file) # metode write json\n",
    "\n",
    "# read file\n",
    "with open('test2.txt', 'r') as file1:\n",
    "    data1 = json.load(file1) # metode read json\n",
    "def text():\n",
    "    for file in data1['member']:\n",
    "        print ('namanya ' + file['name'] +\n",
    "         ', punya skill ' + file['skill'])\n",
    "text()"
   ]
  },
  {
   "cell_type": "markdown",
   "metadata": {},
   "source": [
    "# Note 5: Jupyter Notebook"
   ]
  },
  {
   "cell_type": "markdown",
   "metadata": {},
   "source": [
    "```\n",
    "first change directory location to open notebook\n",
    "open jupyter notebook in terminal with command\n",
    "py -m jupyterlab    = open jupyterlab\n",
    "py -m notebook      = open jupyter notebook\n",
    "```"
   ]
  }
 ],
 "metadata": {
  "language_info": {
   "name": "python"
  },
  "orig_nbformat": 4
 },
 "nbformat": 4,
 "nbformat_minor": 2
}
