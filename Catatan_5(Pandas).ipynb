{
 "cells": [
  {
   "cell_type": "markdown",
   "metadata": {},
   "source": [
    "# Note 1: Data Frame"
   ]
  },
  {
   "cell_type": "code",
   "execution_count": 2,
   "metadata": {},
   "outputs": [],
   "source": [
    "import pandas as pd"
   ]
  },
  {
   "cell_type": "code",
   "execution_count": null,
   "metadata": {},
   "outputs": [],
   "source": [
    "dict1 = {\"country\"  : [\"Brazil\", \"Russia\", \"India\", \"China\", \"South Africa\"],\n",
    "        \"capital\"   : [\"Brasilia\", \"Moscow\", \"New Dehli\", \"Beijing\", \"Pretoria\"],\n",
    "        \"area\"      : [8.516, 17.10, 3.286, 9.597, 1.221],\n",
    "        \"population\": [200.4, 143.5, 1252, 1357, 52.98] }\n",
    "\n",
    "# convert into pandas dataframe\n",
    "brics = pd.DataFrame(dict1)\n",
    "brics.index = [\"BR\", \"RU\", \"IN\", \"CH\", \"SA\"]\n",
    "print(brics)"
   ]
  },
  {
   "cell_type": "code",
   "execution_count": null,
   "metadata": {},
   "outputs": [],
   "source": [
    "# count column\n",
    "count_column = brics.shape[1]  # have to use 1\n",
    "print(count_column)\n",
    "\n",
    "# count row\n",
    "count_row = brics.shape[0]     # have to use 0\n",
    "print(count_row)"
   ]
  },
  {
   "cell_type": "markdown",
   "metadata": {},
   "source": [
    "# Note 2: CSV file"
   ]
  },
  {
   "cell_type": "code",
   "execution_count": null,
   "metadata": {},
   "outputs": [],
   "source": [
    "x = pd.read_csv('test3.csv', header=0, sep=',')\n",
    "y = pd.DataFrame(x)\n",
    "\n",
    "# clean data from null values and non numeric\n",
    "x.dropna(axis=0, inplace=True)   # use .dropna()\n",
    "\n",
    "# read slicing\n",
    "print (y[0:6])"
   ]
  },
  {
   "cell_type": "code",
   "execution_count": null,
   "metadata": {},
   "outputs": [],
   "source": [
    "# change data type in table\n",
    "x['Duration'] = x['Duration'].astype(float)\n",
    "x['Pulse'] = x['Pulse'].astype(float)\n",
    "x['Maxpulse'] = x['Maxpulse'].astype(float)\n",
    "\n",
    "# data type in table\n",
    "y.info()"
   ]
  },
  {
   "cell_type": "code",
   "execution_count": null,
   "metadata": {},
   "outputs": [],
   "source": [
    "# count aggregat\n",
    "print (y.describe())"
   ]
  }
 ],
 "metadata": {
  "interpreter": {
   "hash": "2141ddae93ce2242f636aae004238769df17c44c2e373e46294c11a7a03087f4"
  },
  "kernelspec": {
   "display_name": "Python 3.10.2 64-bit",
   "language": "python",
   "name": "python3"
  },
  "language_info": {
   "codemirror_mode": {
    "name": "ipython",
    "version": 3
   },
   "file_extension": ".py",
   "mimetype": "text/x-python",
   "name": "python",
   "nbconvert_exporter": "python",
   "pygments_lexer": "ipython3",
   "version": "3.10.2"
  },
  "orig_nbformat": 4
 },
 "nbformat": 4,
 "nbformat_minor": 2
}
