{
 "cells": [
  {
   "cell_type": "markdown",
   "metadata": {},
   "source": [
    "# Note 1: Array in Numpy"
   ]
  },
  {
   "cell_type": "code",
   "execution_count": 2,
   "metadata": {},
   "outputs": [],
   "source": [
    "import numpy as np"
   ]
  },
  {
   "cell_type": "code",
   "execution_count": 3,
   "metadata": {},
   "outputs": [
    {
     "name": "stdout",
     "output_type": "stream",
     "text": [
      "Andi\n"
     ]
    }
   ],
   "source": [
    "# example of array\n",
    "nama = [['Ani', 'Budi', 'Cika'],\n",
    "        ['Andi', 'Bina', 'Cita']]\n",
    "nama1 = np.array(nama)\n",
    "print (nama1[1,0])"
   ]
  },
  {
   "cell_type": "code",
   "execution_count": 8,
   "metadata": {},
   "outputs": [
    {
     "name": "stdout",
     "output_type": "stream",
     "text": [
      "[[ 1.87 81.65]\n",
      " [ 1.87 97.52]\n",
      " [ 1.82 95.25]]\n"
     ]
    }
   ],
   "source": [
    "# array like list but more eficient\n",
    "height = [1.87,  1.87, 1.82, 1.91, 1.90, 1.85]\n",
    "weight = [81.65, 97.52, 95.25, 92.98, 86.18, 88.45]\n",
    "np_height = np.array(height)\n",
    "np_weight = np.array(weight)\n",
    "np_total = np.column_stack((np_height, np_weight))\n",
    "print(np_total[:3, :])\n"
   ]
  },
  {
   "cell_type": "code",
   "execution_count": 9,
   "metadata": {},
   "outputs": [
    {
     "data": {
      "text/plain": [
       "(6, 2)"
      ]
     },
     "execution_count": 9,
     "metadata": {},
     "output_type": "execute_result"
    }
   ],
   "source": [
    "# check total rows and columns\n",
    "np_total.shape"
   ]
  },
  {
   "cell_type": "code",
   "execution_count": 5,
   "metadata": {},
   "outputs": [
    {
     "name": "stdout",
     "output_type": "stream",
     "text": [
      "23.35\n",
      "27.89\n",
      "28.76\n",
      "25.49\n",
      "23.87\n",
      "25.84\n"
     ]
    }
   ],
   "source": [
    "# Calculate bmi\n",
    "bmi = list(np_weight / np_height ** 2)\n",
    "for x in bmi:\n",
    "    if x > 23:\n",
    "        print(round(x, 2))"
   ]
  },
  {
   "cell_type": "code",
   "execution_count": 6,
   "metadata": {},
   "outputs": [
    {
     "name": "stdout",
     "output_type": "stream",
     "text": [
      "1.87\n",
      "1.87\n",
      "[[ 1.         -0.23077148]\n",
      " [-0.23077148  1.        ]]\n",
      "0.02999999999999994\n"
     ]
    }
   ],
   "source": [
    "# search mean (average) method\n",
    "mean_height = np.mean(np_height)\n",
    "print(mean_height)\n",
    "\n",
    "# search median method\n",
    "median_height = np.median(np_height)\n",
    "print(median_height)\n",
    "\n",
    "# search correlation coeficition\n",
    "corrcoef_total = np.corrcoef(np_height, np_weight)\n",
    "print(corrcoef_total)\n",
    "\n",
    "# search standar deviation\n",
    "stdev_height = np.std(np_height)\n",
    "print(stdev_height)"
   ]
  }
 ],
 "metadata": {
  "interpreter": {
   "hash": "2141ddae93ce2242f636aae004238769df17c44c2e373e46294c11a7a03087f4"
  },
  "kernelspec": {
   "display_name": "Python 3.10.2 64-bit",
   "language": "python",
   "name": "python3"
  },
  "language_info": {
   "codemirror_mode": {
    "name": "ipython",
    "version": 3
   },
   "file_extension": ".py",
   "mimetype": "text/x-python",
   "name": "python",
   "nbconvert_exporter": "python",
   "pygments_lexer": "ipython3",
   "version": "3.10.2"
  },
  "orig_nbformat": 4
 },
 "nbformat": 4,
 "nbformat_minor": 2
}
