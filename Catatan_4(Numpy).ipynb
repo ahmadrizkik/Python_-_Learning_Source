{
 "cells": [
  {
   "cell_type": "markdown",
   "metadata": {},
   "source": [
    "# Note 1: Array in Numpy"
   ]
  },
  {
   "cell_type": "code",
   "execution_count": null,
   "metadata": {},
   "outputs": [],
   "source": [
    "import numpy as np\n",
    "\n",
    "# array like list but more eficient\n",
    "height = [1.87,  1.87, 1.82, 1.91, 1.90, 1.85]\n",
    "weight = [81.65, 97.52, 95.25, 92.98, 86.18, 88.45]\n",
    "np_height = np.array(height)\n",
    "np_weight = np.array(weight)\n",
    "\n",
    "# Calculate bmi\n",
    "bmi = list(np_weight / np_height ** 2)\n",
    "for x in bmi:\n",
    "    if x > 23:\n",
    "        print(round(x, 2))\n",
    "\n",
    "# access method array in array\n",
    "nama = [['Ani', 'Budi', 'Cika'],\n",
    "        ['Andi', 'Bina', 'Cita']]\n",
    "nama1 = np.array(nama)\n",
    "print (nama1[1,0])\n",
    "\n",
    "# search mean (average) method\n",
    "Calorie_burnage = [240, 250, 260, 270, 280, 290, 300, 310, 320, 330]\n",
    "Average_calorie_burnage = np.mean(Calorie_burnage)\n",
    "print(Average_calorie_burnage)"
   ]
  }
 ],
 "metadata": {
  "interpreter": {
   "hash": "2141ddae93ce2242f636aae004238769df17c44c2e373e46294c11a7a03087f4"
  },
  "kernelspec": {
   "display_name": "Python 3.10.2 64-bit",
   "language": "python",
   "name": "python3"
  },
  "language_info": {
   "name": "python",
   "version": "3.10.2"
  },
  "orig_nbformat": 4
 },
 "nbformat": 4,
 "nbformat_minor": 2
}
